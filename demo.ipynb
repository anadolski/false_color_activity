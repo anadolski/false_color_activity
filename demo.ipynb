{
 "cells": [
  {
   "cell_type": "markdown",
   "metadata": {},
   "source": [
    "# Let's make some astronomy images!\n",
    "\n",
    "\n",
    "One of the best parts of astronomy is the beautiful images. In this activity we are going to make some!\n",
    "\n",
    "<table><tr><td><img src='demo_images/ngc602_hubble.jpg' width=\"400\"></td><td><img src='demo_images/eagle_nebula_hubble.jpg' width=\"400\"></td></tr></table>\n",
    "\n",
    "## What do telescopes give us?\n",
    "\n",
    "A single telescope does not observe at every wavelength; different techniques, materials, and locations are often required to capture different wavelengths of light. Typically, a telescope is optimized to capture light within a relatively narrow range of wavelengths; filters are then used to separate out specific wavelengths in that range. For example, the Hubble telescope is optimized to capture visible light as well as some ultraviolet and infrared, while the Chandra X-ray Observatory is optimized for x-rays.\n",
    "\n",
    "For each filter, a telescope will produce a single grey scale \"image\" where higher values indicated that more light was received through the filter. For example, below are the grey scale images of the Whirlpool Galaxy that were returned by the Hubble telescope for its red, green, and blue optical filters.\n",
    "\n",
    "<table><tr><td><img src='demo_images/whirlpool_galaxy_r_bw.png' width=\"400\"></td><td><img src='demo_images/whirlpool_galaxy_g_bw.png' width=\"400\"></td><td><img src='demo_images/whirlpool_galaxy_b_bw.png' width=\"400\"></td></tr></table>\n",
    "\n",
    "## Adding Color\n",
    "\n",
    "While these greyscale images can be very useful to astronomers for comparing observations at different wavelenths side by side, we can get a better understanding of the overall object by combining these observations. One way to do this is by assigning a different color to the data from each filter. In the case of the Hubble data above, the color choice is relatively easy since the filters correspond to the wavelengths of the colors red, green, and blue.\n",
    "\n",
    "<table><tr><td><img src='demo_images/whirlpool_galaxy_r.png' width=\"400\"></td><td><img src='demo_images/whirlpool_galaxy_g.png' width=\"400\"></td><td><img src='demo_images/whirlpool_galaxy_b.png' width=\"400\"></td></tr></table>\n",
    "<table><tr><td><img src='demo_images/whirlpool_galaxy.png' width=\"400\"></td></tr></table>\n",
    "\n",
    "Digital color images are actually a combination of \"red\", \"green\", and \"blue\" images because this is usually how they are displayed by screens and printed. When the colors are viewed on top of one another (either as light or ink), they blend to give us the full rainbow of colors.\n",
    "\n",
    "## False Color\n",
    "\n",
    "While the filters in the image above were in visible wavelengths that have corresponding colors that could be used to color the greyscale images, this is not always the case. For example, all of the filters for the Chandra X-ray Observatory are in the x-ray which is not visible to humans. To respresent wavelengths that are outside our visible range, astronomers will pick colors that are visible as a substitute. In the example below, x-ray data from the Chandra X-ray Observatory is added to the Whirlpool Galaxy image from above in magenta.\n",
    "\n",
    "<table><tr><td><img src='demo_images/whirlpool_galaxy_x.png' width=\"400\"></td></tr></table>\n",
    "\n",
    "Images where astronomers use colors to represent data from filters that do not capture that color are called \"false color images\". It's not that the images aren't real, they just aren't what a human would see with their naked eye if they could travel to the nebula/galaxy/planet in person.\n",
    "\n",
    "## What do different wavelengths tell us?\n",
    "\n",
    "Different wavelengths of light provide different information. As shown below, light at longer wavelengths (e.g. radio & infrared) is better for observing cooler things like cold gas, dust, and cooler stars. Light at shorter wavelengths (e.g. xray & gammaray) is better for observing hot things like hot gas and stars.\n",
    "\n",
    "![title](MWA-whirlpool-galaxy.jpg)\n",
    "\n"
   ]
  },
  {
   "cell_type": "markdown",
   "metadata": {},
   "source": [
    "# Notebook Orientation\n",
    "\n",
    "This is a Jupyter notebook where you can have text along side code. Each cell can be either text or code. Text cells display text (like this one) and code cells can run any valid Python code (like the one below).\n",
    "\n",
    "To run the code in a code cell you click on the cell so that it is selected (has a blue/green box around it) and then either type `shift+return` (hold the `shift` key while you hit the `return` key) or click the ``Run`` button at the top of the notebook. You can re-run cells as many times as you want.\n",
    "\n",
    "The code contained in the cell below creates a variable called ``x``, assigns the value of ``x`` to be 1, and prints the value of ``x`` to the output (displayed below the cell) by calling the ``print`` function with ``x`` as input."
   ]
  },
  {
   "cell_type": "code",
   "execution_count": null,
   "metadata": {},
   "outputs": [],
   "source": [
    "# This is a comment because it startswith \"#\" and will not be executed as code\n",
    "x = 1\n",
    "print(x)"
   ]
  },
  {
   "cell_type": "markdown",
   "metadata": {},
   "source": [
    "Variables can be any combination of letters and numbers (no spaces) as long they start with a letter."
   ]
  },
  {
   "cell_type": "code",
   "execution_count": null,
   "metadata": {},
   "outputs": [],
   "source": [
    "this_is_a_very_long_name = 5\n",
    "print(this_is_a_very_long_name)"
   ]
  },
  {
   "cell_type": "markdown",
   "metadata": {},
   "source": [
    "And variables can be used to perform mathematic operations.\n",
    "* ``+``  Addition\n",
    "* ``-`` Subtraction\n",
    "* ``*`` Multiplication\n",
    "* ``/`` Division\n",
    "* ``**`` Exponent"
   ]
  },
  {
   "cell_type": "code",
   "execution_count": null,
   "metadata": {},
   "outputs": [],
   "source": [
    "z = (x * this_is_a_very_long_name - 3 + (2**2))/5\n",
    "print(z)"
   ]
  },
  {
   "cell_type": "markdown",
   "metadata": {},
   "source": [
    "# Activity\n",
    "\n",
    "A. Select and object from one of the sites below and use one of the method below to explore the different filters   available for the object and answer the following questions:\n",
    "\n",
    "  1. Which object did you pick?\n",
    "  1. In which filters does the object look the same/different? How does it look the same/different?\n",
    "  1. Which filter captures the longest wavelengths of light? The shortest?\n",
    "  1. Which filter captures light from coldest parts of your object? The hotest?\n",
    "  1. Which parts of your object are the coldest? The hotest?\n",
    "  \n",
    "B. Adjust the colors to make your own astronomy image! At the end we will have a show and tell for everyone who would like to share their image."
   ]
  },
  {
   "cell_type": "markdown",
   "metadata": {},
   "source": [
    "# Graphical User Interface\n",
    "\n",
    "The tool below will allow you to create images of different astrophysical objects by overlaying layers of data at different wavelengths that are provided to the public on the website for the Chandra X-ray observatory ([here](https://chandra.harvard.edu/photo/openFITS/multiwavelength_data.html)). On the left there is a drop down menu for selecting an object, a box for setting the size of the image produced, a checkbox for specifying if the image displayed should be full resolution or downsampled, and expandable panels for each layer (one for each filter available for the selected object). Each layer panel allows you to specify the color, opacity, and scaling of that layer in the image displayed on the right.\n",
    "\n",
    "### Tips\n",
    "\n",
    "* Objects with an * in front of them have to be downloaded first which can take a minute or two. If you would like to browse these objects before downloading them, they can be found [here](https://chandra.harvard.edu/photo/openFITS/multiwavelength_data.html).\n",
    "* When the ‘Display full resolution (slow)’ box is checked, changes to the layer options will take a much longer time to show up so we recommend exploring the options without it checked and only checking it when you want to save an image.\n",
    "* To hide a layer completely, set the opacity to 0.\n",
    "* Pick three layers to be red, blue, and green as these colors can be merged into a single RGB image and are displayed independently in the image (without overlap) because that is how screens display images. Layers that are colors other than red, blue, or green will be overlayed on top of the RGB image which can mask layers below them in the image if their opacity is high.\n",
    "\n",
    "### Definitions\n",
    "\n",
    "* **Opacity:** How transparent the layer is. Smaller values (0) mean the layer is completely transparent, Larger values (1) mean the layer is not transparent.\n",
    "* **Logarithmic Scaling:** Maps the intensity of the color used to represent the layer to the logarithm of the data. This is useful for studying data that has a large range when you would like to see small and large changes at the same time.\n",
    "\n",
    "### Saving Images\n",
    "\n",
    "When you want to save an image, click the ‘Display full resolution (slow)’ check box and wait for the image to display. Then you can right-click on the image (two finger click on Mac) and save the image to your computer. If you want to keep working, uncheck the ‘Display full resolution (slow)’ check box so that images display quicker."
   ]
  },
  {
   "cell_type": "code",
   "execution_count": null,
   "metadata": {
    "scrolled": false
   },
   "outputs": [],
   "source": [
    "# Import package\n",
    "from widgets import ImageWidget\n",
    "\n",
    "# Show images in notebook instead of separate window\n",
    "%matplotlib inline\n",
    "\n",
    "# Create widget\n",
    "ImageWidget()"
   ]
  },
  {
   "cell_type": "markdown",
   "metadata": {},
   "source": [
    "# Coding\n",
    "\n",
    "You can also create images using Python programming in the cell below. Instead of clicking buttons, sliders, and checkboxes as above, you can change the appearance of the image by changing the values passed to the `add_layer` calls below."
   ]
  },
  {
   "cell_type": "code",
   "execution_count": null,
   "metadata": {},
   "outputs": [],
   "source": [
    "# Import package\n",
    "from image import Image\n",
    "\n",
    "# Show images in notebook instead of separate window\n",
    "%matplotlib inline\n",
    "\n",
    "# Create image instance from object and list filters available for the object\n",
    "x = Image('kepler')\n",
    "print(x.filters) \n",
    "\n",
    "# Add layers to the image\n",
    "x.add_layer('infrared', color='red', logscale=True)\n",
    "x.add_layer('optical', color='yellow', alpha=0.5, logscale=False)\n",
    "x.add_layer('xray_low_energy', color='green', logscale=True)\n",
    "x.add_layer('xray_high_energy', color='blue', logscale=True)\n",
    "\n",
    "# Display the image\n",
    "x.plot(figsize=(10, 10), fullres=True)"
   ]
  },
  {
   "cell_type": "markdown",
   "metadata": {},
   "source": [
    "# Additional Coding Examples"
   ]
  },
  {
   "cell_type": "markdown",
   "metadata": {},
   "source": [
    "## RGB Whirlpool (in greyscale)"
   ]
  },
  {
   "cell_type": "code",
   "execution_count": null,
   "metadata": {},
   "outputs": [],
   "source": [
    "from image import ImageLayer\n",
    "\n",
    "r = ImageLayer('whirlpool_galaxy', 'optical_red', color='white', min_color='black')\n",
    "g = ImageLayer('whirlpool_galaxy', 'optical_green', color='white', min_color='black')\n",
    "b = ImageLayer('whirlpool_galaxy', 'optical_blue', color='white', min_color='black')\n",
    "\n",
    "r.plot(new_figure=True)\n",
    "g.plot(new_figure=True)\n",
    "b.plot(new_figure=True)"
   ]
  },
  {
   "cell_type": "markdown",
   "metadata": {},
   "source": [
    "## RGB Whirlpool"
   ]
  },
  {
   "cell_type": "code",
   "execution_count": null,
   "metadata": {},
   "outputs": [],
   "source": [
    "from image import ImageLayer\n",
    "\n",
    "r = ImageLayer('whirlpool_galaxy', 'optical_red', color=(1, 0, 0), min_color='black')\n",
    "g = ImageLayer('whirlpool_galaxy', 'optical_green', color=(0, 1, 0), min_color='black')\n",
    "b = ImageLayer('whirlpool_galaxy', 'optical_blue', color=(0, 0, 1), min_color='black')\n",
    "\n",
    "r.plot(new_figure=True)\n",
    "g.plot(new_figure=True)\n",
    "b.plot(new_figure=True)"
   ]
  },
  {
   "cell_type": "code",
   "execution_count": null,
   "metadata": {},
   "outputs": [],
   "source": []
  }
 ],
 "metadata": {
  "kernelspec": {
   "display_name": "Python 3",
   "language": "python",
   "name": "python3"
  },
  "language_info": {
   "codemirror_mode": {
    "name": "ipython",
    "version": 3
   },
   "file_extension": ".py",
   "mimetype": "text/x-python",
   "name": "python",
   "nbconvert_exporter": "python",
   "pygments_lexer": "ipython3",
   "version": "3.8.1"
  }
 },
 "nbformat": 4,
 "nbformat_minor": 4
}
