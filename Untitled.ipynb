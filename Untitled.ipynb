{
 "cells": [
  {
   "cell_type": "code",
   "execution_count": 342,
   "metadata": {},
   "outputs": [
    {
     "data": {
      "text/plain": [
       "<Figure size 360x216 with 0 Axes>"
      ]
     },
     "metadata": {},
     "output_type": "display_data"
    }
   ],
   "source": [
    "# Import packages\n",
    "import os\n",
    "from matplotlib import colors\n",
    "from matplotlib.colors import LinearSegmentedColormap\n",
    "from matplotlib.cm import ScalarMappable\n",
    "import matplotlib.pyplot as plt\n",
    "from astropy.visualization import astropy_mpl_style\n",
    "plt.style.use(astropy_mpl_style)\n",
    "\n",
    "# Show images in notebook instead of separate window:\n",
    "%matplotlib inline\n",
    "\n",
    "from astropy.utils.data import get_pkg_data_filename\n",
    "from astropy.io import fits\n",
    "import yaml\n",
    "import ipywidgets as widgets\n",
    "from ipywidgets import interact, interactive\n",
    "import numpy as np\n",
    "\n",
    "# Data from https://chandra.harvard.edu/photo/openFITS/multiwavelength_data.html"
   ]
  },
  {
   "cell_type": "code",
   "execution_count": 343,
   "metadata": {},
   "outputs": [],
   "source": [
    "# Load catalog of files\n",
    "class Catalog(object):\n",
    "    def __init__(self, filename):\n",
    "        with open(filename, 'r') as fd:\n",
    "            self.yaml = yaml.safe_load(fd)\n",
    "        self.objects = list(self.yaml.keys())\n",
    "        self.cache = {}\n",
    "    def get_bands(self, object_name):\n",
    "        return list(self.yaml[object_name].keys())\n",
    "    def load_data(self, object_name, band, fname=None):\n",
    "        if fname is None:\n",
    "            if os.path.isfile(band):\n",
    "                fname = band\n",
    "            else:\n",
    "                fname = os.path.join('images', object_name, self.yaml[object_name][band])\n",
    "        if fname not in self.cache:\n",
    "            image_file = get_pkg_data_filename(fname)\n",
    "            fits.info(image_file)\n",
    "            self.cache[fname] = fits.getdata(image_file, ext=0)\n",
    "        return self.cache[fname]\n",
    "    \n",
    "catalog = Catalog(\"images/catalog.yml\")"
   ]
  },
  {
   "cell_type": "code",
   "execution_count": 348,
   "metadata": {},
   "outputs": [],
   "source": [
    "out = widgets.Output(layout={'border': '1px solid black'})\n",
    "class ImageLayer(object):\n",
    "    def __init__(self, *args, **kwargs):\n",
    "        self.object = None\n",
    "        self.band = None\n",
    "        self.fname = None\n",
    "        self.image_data = None\n",
    "        self.shape = None\n",
    "        self.color = None\n",
    "        self.alpha = 1.0\n",
    "        self.logscale = True\n",
    "        self.vmin = None\n",
    "        self.vmax = None\n",
    "        self.norm = None\n",
    "        self.cmap = None\n",
    "        self.min_color = (0, 0, 0, 0)\n",
    "        self.update(*args, **kwargs)\n",
    "    def update(self, object_name=None, band=None, fname=None,\n",
    "               color='white', alpha=1.0, logscale=False,\n",
    "               vmin=None, vmax=None, min_color=(0, 0, 0, 0)):\n",
    "        new_data = False\n",
    "        if (fname, object_name, band) != (self.fname, self.object, self.band):\n",
    "            self.object = object_name\n",
    "            self.band = band\n",
    "            self.fname = fname\n",
    "            self.image_data = catalog.load_data(self.object, self.band, fname=self.fname)\n",
    "            self.shape = self.image_data.shape\n",
    "            new_data = True\n",
    "        self.alpha = alpha\n",
    "        new_norm = False\n",
    "        if ((logscale, vmin, vmax) != (self.logscale, self.vmin, self.vmax)\n",
    "            or (self.norm is None)):\n",
    "            self.logscale = logscale\n",
    "            self.vmin = vmin\n",
    "            self.vmax = vmax\n",
    "            if logscale:\n",
    "                self.norm = colors.LogNorm(vmin=vmin, vmax=vmax)\n",
    "            else:\n",
    "                self.norm = colors.Normalize(vmin=vmin, vmax=vmax)\n",
    "            new_norm = True\n",
    "        new_cmap = False\n",
    "        if ((min_color, color) != (self.min_color, self.color)\n",
    "            or (self.cmap is None)):\n",
    "            self.min_color = min_color\n",
    "            self.color = color\n",
    "            self.cmap = LinearSegmentedColormap.from_list(fname, [min_color, color])\n",
    "            new_cmap = True\n",
    "        if new_norm or new_cmap:\n",
    "            self.smap = ScalarMappable(norm=self.norm, cmap=self.cmap)\n",
    "        if (new_norm or new_data) and (self.image_data is not None):            \n",
    "            self.color_data = self.norm(self.image_data)\n",
    "    def get_update_widget(self, image=None, default_color=None, default_band=None):\n",
    "        if default_band is None:\n",
    "            if image is None:\n",
    "                default_band = catalog.get_bands(self.object)[0]\n",
    "            else:\n",
    "                default_band = image.bands[len(image.layers) - 1]\n",
    "        band = widgets.Dropdown(options=catalog.get_bands(self.object),\n",
    "                                value=default_band,\n",
    "                                description='Band:', disabled=False)\n",
    "        if default_color is None:\n",
    "            if image is None:\n",
    "                default_color = 'blue'\n",
    "            else:\n",
    "                default_color = image.default_colors[(len(image.layers) - 1) % len(image.default_colors)]\n",
    "        color = widgets.ColorPicker(concise=False, description='Layer color',\n",
    "                                    value=default_color, disabled=False)\n",
    "        alpha = widgets.FloatSlider(value=1.0, min=0, max=1.0,\n",
    "                                    description='Opacity', readout=True)\n",
    "        logscale = widgets.Checkbox(value=False, description='Logarithmic scaling')\n",
    "        def wrapper(**kwargs):\n",
    "            self.update(object_name=self.object, **kwargs)\n",
    "            if image is not None:\n",
    "                if image.widget_setup_complete:\n",
    "                    out.clear_output()\n",
    "                    with out:\n",
    "                        image.plot()\n",
    "            elif (self.image_data is not None):\n",
    "                self.plot()\n",
    "        w = interactive(wrapper, band=band,\n",
    "                        color=color, alpha=alpha, logscale=logscale)\n",
    "        return w\n",
    "    def widget_update(self, image=None):\n",
    "        w = self.get_update_widget(image=image)\n",
    "        display(w)\n",
    "    def get_rgba(self):\n",
    "        return self.smap.to_rgba(self.image_data, alpha=self.alpha)\n",
    "    def plot(self):\n",
    "        plt.imshow(self.image_data, alpha=self.alpha,\n",
    "                   norm=self.norm, cmap=self.cmap, origin='lower')\n",
    "\n",
    "class Image(object):\n",
    "    def __init__(self, object_name):\n",
    "        self.object = object_name\n",
    "        self.layers = []\n",
    "        self.default_colors = ['red', 'green', 'blue']\n",
    "        self.shape = None\n",
    "    @property\n",
    "    def bands(self):\n",
    "        return catalog.get_bands(self.object)\n",
    "    @staticmethod\n",
    "    def widget():\n",
    "        def wrapper(object_name):\n",
    "            obj = Image(object_name)\n",
    "            obj.widget_setup_complete = False\n",
    "            w_clr = []\n",
    "            for i, clr in enumerate(obj.default_colors):\n",
    "                if 'optical_%s' % clr in obj.bands:\n",
    "                    band = 'optical_%s' % clr\n",
    "                else:\n",
    "                    band = obj.bands[i]\n",
    "                new_layer = ImageLayer(obj.object, band, color=clr)\n",
    "                obj.append_layer(new_layer)\n",
    "                w_clr.append(new_layer.get_update_widget(image=obj, default_color=clr,\n",
    "                                                        default_band=band))\n",
    "            w_clr = widgets.Accordion(children=w_clr,\n",
    "                                      layout=widgets.Layout(width='50%'))\n",
    "            for i, clr in enumerate(obj.default_colors):\n",
    "                w_clr.set_title(i, 'Layer %d' % (i + 1))\n",
    "            w_box = widgets.HBox([w_clr, out])\n",
    "            button = widgets.Button(description=\"Add Image Layer\")\n",
    "            display(w_box, button)\n",
    "            button.on_click(obj.add_layer_widget)\n",
    "            out.clear_output()\n",
    "            with out:\n",
    "                obj.plot()\n",
    "            obj.widget_setup_complete = True\n",
    "        w = interactive(wrapper,\n",
    "                        object_name=widgets.Dropdown(\n",
    "                            options=catalog.objects, value=catalog.objects[0],\n",
    "                            description='Astronomical Object:', disabled=False))\n",
    "        display(w)\n",
    "            \n",
    "    def add_layer_widget(self, b):\n",
    "        new_layer = ImageLayer(self.object, self.bands[0])\n",
    "        self.append_layer(new_layer)\n",
    "        new_layer.widget_update(self)\n",
    "    def add_layer(self, band, color=None, **kwargs):\n",
    "        if color is None:\n",
    "            color = self.default_colors[len(self.layers)]\n",
    "        new_layer = ImageLayer(self.object, band=band,\n",
    "                               color=color, **kwargs)\n",
    "        self.append_layer(new_layer)\n",
    "    def append_layer(self, new_layer):\n",
    "        if self.shape:\n",
    "            assert(new_layer.shape == self.shape)\n",
    "        else:\n",
    "            self.shape = new_layer.shape\n",
    "        self.layers.append(new_layer)\n",
    "    def plot(self):\n",
    "        if self.shape is None:\n",
    "            return\n",
    "        plt.clf()\n",
    "        plt.figure(figsize=(5, 3))\n",
    "        plt.imshow(np.zeros(tuple(list(self.shape) + [3])))\n",
    "        shape = self.shape\n",
    "        rgb_layers = {}\n",
    "        oth_layers = []\n",
    "        for layer in self.layers:\n",
    "            if layer.color in self.default_colors + ['r', 'g', 'b']:\n",
    "                rgb_layers[layer.color[0]] = layer.color_data * layer.alpha\n",
    "            else:\n",
    "                oth_layers.append(layer)\n",
    "        if len(rgb_layers) < 3:\n",
    "            return\n",
    "        if rgb_layers:\n",
    "            rgb_data = np.stack([rgb_layers.get(x, np.zeros(self.shape)) for x in ['r', 'g', 'b']], 2)\n",
    "            plt.imshow(rgb_data, origin='lower')\n",
    "        for layer in oth_layers:\n",
    "            layer.plot()\n",
    "        plt.axis(\"off\")\n",
    "        plt.show()"
   ]
  },
  {
   "cell_type": "markdown",
   "metadata": {},
   "source": [
    "# Graphical User Interface"
   ]
  },
  {
   "cell_type": "code",
   "execution_count": 349,
   "metadata": {
    "scrolled": false
   },
   "outputs": [
    {
     "data": {
      "application/vnd.jupyter.widget-view+json": {
       "model_id": "4ba64868147c4c8aaaedc52a99279dfe",
       "version_major": 2,
       "version_minor": 0
      },
      "text/plain": [
       "interactive(children=(Dropdown(description='Astronomical Object:', options=('kepler', 'whirlpool_galaxy', 'cat…"
      ]
     },
     "metadata": {},
     "output_type": "display_data"
    }
   ],
   "source": [
    "Image.widget()"
   ]
  },
  {
   "cell_type": "markdown",
   "metadata": {},
   "source": [
    "# Coding"
   ]
  },
  {
   "cell_type": "code",
   "execution_count": 350,
   "metadata": {},
   "outputs": [
    {
     "data": {
      "text/plain": [
       "<Figure size 432x288 with 0 Axes>"
      ]
     },
     "metadata": {},
     "output_type": "display_data"
    },
    {
     "data": {
      "image/png": "[encoded data removed]",
      "text/plain": [
       "<Figure size 360x216 with 1 Axes>"
      ]
     },
     "metadata": {
      "needs_background": "light"
     },
     "output_type": "display_data"
    }
   ],
   "source": [
    "x = Image('kepler')\n",
    "x.add_layer('infrared', 'red', logscale=True)\n",
    "x.add_layer('optical', 'yellow', alpha=0.5, logscale=False)\n",
    "x.add_layer('xray_low_energy', 'green', logscale=True)\n",
    "x.add_layer('xray_high_energy', 'blue', logscale=True)\n",
    "x.plot()"
   ]
  },
  {
   "cell_type": "code",
   "execution_count": 347,
   "metadata": {},
   "outputs": [
    {
     "ename": "ValueError",
     "evalue": "Accordion(children=(interactive(children=(IntSlider(value=10, description='a', max=30, min=-10), IntSlider(value=20, description='b', max=60, min=-20), Output()), _dom_classes=('widget-interact',)),)) cannot be transformed to a widget",
     "output_type": "error",
     "traceback": [
      "\u001b[0;31m---------------------------------------------------------------------------\u001b[0m",
      "\u001b[0;31mValueError\u001b[0m                                Traceback (most recent call last)",
      "\u001b[0;32m<ipython-input-347-3001ffe6b00e>\u001b[0m in \u001b[0;36m<module>\u001b[0;34m\u001b[0m\n\u001b[1;32m      8\u001b[0m     \u001b[0mprint\u001b[0m\u001b[0;34m(\u001b[0m\u001b[0mc\u001b[0m\u001b[0;34m*\u001b[0m\u001b[0;36m5\u001b[0m\u001b[0;34m)\u001b[0m\u001b[0;34m\u001b[0m\u001b[0;34m\u001b[0m\u001b[0m\n\u001b[1;32m      9\u001b[0m \u001b[0;34m\u001b[0m\u001b[0m\n\u001b[0;32m---> 10\u001b[0;31m \u001b[0minteract\u001b[0m\u001b[0;34m(\u001b[0m\u001b[0mf2\u001b[0m\u001b[0;34m,\u001b[0m \u001b[0mc\u001b[0m\u001b[0;34m=\u001b[0m\u001b[0mw\u001b[0m\u001b[0;34m)\u001b[0m\u001b[0;34m\u001b[0m\u001b[0;34m\u001b[0m\u001b[0m\n\u001b[0m",
      "\u001b[0;32m~/miniconda3/envs/outreach/lib/python3.8/site-packages/ipywidgets/widgets/interaction.py\u001b[0m in \u001b[0;36m__call__\u001b[0;34m(self, _InteractFactory__interact_f, **kwargs)\u001b[0m\n\u001b[1;32m    526\u001b[0m         \u001b[0;31m#    def f(*args, **kwargs):\u001b[0m\u001b[0;34m\u001b[0m\u001b[0;34m\u001b[0m\u001b[0;34m\u001b[0m\u001b[0m\n\u001b[1;32m    527\u001b[0m         \u001b[0;31m#        ...\u001b[0m\u001b[0;34m\u001b[0m\u001b[0;34m\u001b[0m\u001b[0;34m\u001b[0m\u001b[0m\n\u001b[0;32m--> 528\u001b[0;31m         \u001b[0mw\u001b[0m \u001b[0;34m=\u001b[0m \u001b[0mself\u001b[0m\u001b[0;34m.\u001b[0m\u001b[0mwidget\u001b[0m\u001b[0;34m(\u001b[0m\u001b[0mf\u001b[0m\u001b[0;34m)\u001b[0m\u001b[0;34m\u001b[0m\u001b[0;34m\u001b[0m\u001b[0m\n\u001b[0m\u001b[1;32m    529\u001b[0m         \u001b[0;32mtry\u001b[0m\u001b[0;34m:\u001b[0m\u001b[0;34m\u001b[0m\u001b[0;34m\u001b[0m\u001b[0m\n\u001b[1;32m    530\u001b[0m             \u001b[0mf\u001b[0m\u001b[0;34m.\u001b[0m\u001b[0mwidget\u001b[0m \u001b[0;34m=\u001b[0m \u001b[0mw\u001b[0m\u001b[0;34m\u001b[0m\u001b[0;34m\u001b[0m\u001b[0m\n",
      "\u001b[0;32m~/miniconda3/envs/outreach/lib/python3.8/site-packages/ipywidgets/widgets/interaction.py\u001b[0m in \u001b[0;36mwidget\u001b[0;34m(self, f)\u001b[0m\n\u001b[1;32m    442\u001b[0m             \u001b[0mThe\u001b[0m \u001b[0mfunction\u001b[0m \u001b[0mto\u001b[0m \u001b[0mwhich\u001b[0m \u001b[0mthe\u001b[0m \u001b[0minteractive\u001b[0m \u001b[0mwidgets\u001b[0m \u001b[0mare\u001b[0m \u001b[0mtied\u001b[0m\u001b[0;34m.\u001b[0m\u001b[0;34m\u001b[0m\u001b[0;34m\u001b[0m\u001b[0m\n\u001b[1;32m    443\u001b[0m         \"\"\"\n\u001b[0;32m--> 444\u001b[0;31m         \u001b[0;32mreturn\u001b[0m \u001b[0mself\u001b[0m\u001b[0;34m.\u001b[0m\u001b[0mcls\u001b[0m\u001b[0;34m(\u001b[0m\u001b[0mf\u001b[0m\u001b[0;34m,\u001b[0m \u001b[0mself\u001b[0m\u001b[0;34m.\u001b[0m\u001b[0mopts\u001b[0m\u001b[0;34m,\u001b[0m \u001b[0;34m**\u001b[0m\u001b[0mself\u001b[0m\u001b[0;34m.\u001b[0m\u001b[0mkwargs\u001b[0m\u001b[0;34m)\u001b[0m\u001b[0;34m\u001b[0m\u001b[0;34m\u001b[0m\u001b[0m\n\u001b[0m\u001b[1;32m    445\u001b[0m \u001b[0;34m\u001b[0m\u001b[0m\n\u001b[1;32m    446\u001b[0m     \u001b[0;32mdef\u001b[0m \u001b[0m__call__\u001b[0m\u001b[0;34m(\u001b[0m\u001b[0mself\u001b[0m\u001b[0;34m,\u001b[0m \u001b[0m__interact_f\u001b[0m\u001b[0;34m=\u001b[0m\u001b[0;32mNone\u001b[0m\u001b[0;34m,\u001b[0m \u001b[0;34m**\u001b[0m\u001b[0mkwargs\u001b[0m\u001b[0;34m)\u001b[0m\u001b[0;34m:\u001b[0m\u001b[0;34m\u001b[0m\u001b[0;34m\u001b[0m\u001b[0m\n",
      "\u001b[0;32m~/miniconda3/envs/outreach/lib/python3.8/site-packages/ipywidgets/widgets/interaction.py\u001b[0m in \u001b[0;36m__init__\u001b[0;34m(self, _interactive__interact_f, _interactive__options, **kwargs)\u001b[0m\n\u001b[1;32m    198\u001b[0m             \u001b[0mgetcallargs\u001b[0m\u001b[0;34m(\u001b[0m\u001b[0mf\u001b[0m\u001b[0;34m,\u001b[0m \u001b[0;34m**\u001b[0m\u001b[0;34m{\u001b[0m\u001b[0mn\u001b[0m\u001b[0;34m:\u001b[0m\u001b[0mv\u001b[0m \u001b[0;32mfor\u001b[0m \u001b[0mn\u001b[0m\u001b[0;34m,\u001b[0m\u001b[0mv\u001b[0m\u001b[0;34m,\u001b[0m\u001b[0m_\u001b[0m \u001b[0;32min\u001b[0m \u001b[0mnew_kwargs\u001b[0m\u001b[0;34m}\u001b[0m\u001b[0;34m)\u001b[0m\u001b[0;34m\u001b[0m\u001b[0;34m\u001b[0m\u001b[0m\n\u001b[1;32m    199\u001b[0m         \u001b[0;31m# Now build the widgets from the abbreviations.\u001b[0m\u001b[0;34m\u001b[0m\u001b[0;34m\u001b[0m\u001b[0;34m\u001b[0m\u001b[0m\n\u001b[0;32m--> 200\u001b[0;31m         \u001b[0mself\u001b[0m\u001b[0;34m.\u001b[0m\u001b[0mkwargs_widgets\u001b[0m \u001b[0;34m=\u001b[0m \u001b[0mself\u001b[0m\u001b[0;34m.\u001b[0m\u001b[0mwidgets_from_abbreviations\u001b[0m\u001b[0;34m(\u001b[0m\u001b[0mnew_kwargs\u001b[0m\u001b[0;34m)\u001b[0m\u001b[0;34m\u001b[0m\u001b[0;34m\u001b[0m\u001b[0m\n\u001b[0m\u001b[1;32m    201\u001b[0m \u001b[0;34m\u001b[0m\u001b[0m\n\u001b[1;32m    202\u001b[0m         \u001b[0;31m# This has to be done as an assignment, not using self.children.append,\u001b[0m\u001b[0;34m\u001b[0m\u001b[0;34m\u001b[0m\u001b[0;34m\u001b[0m\u001b[0m\n",
      "\u001b[0;32m~/miniconda3/envs/outreach/lib/python3.8/site-packages/ipywidgets/widgets/interaction.py\u001b[0m in \u001b[0;36mwidgets_from_abbreviations\u001b[0;34m(self, seq)\u001b[0m\n\u001b[1;32m    298\u001b[0m             \u001b[0;32mif\u001b[0m \u001b[0;32mnot\u001b[0m \u001b[0;34m(\u001b[0m\u001b[0misinstance\u001b[0m\u001b[0;34m(\u001b[0m\u001b[0mwidget\u001b[0m\u001b[0;34m,\u001b[0m \u001b[0mValueWidget\u001b[0m\u001b[0;34m)\u001b[0m \u001b[0;32mor\u001b[0m \u001b[0misinstance\u001b[0m\u001b[0;34m(\u001b[0m\u001b[0mwidget\u001b[0m\u001b[0;34m,\u001b[0m \u001b[0mfixed\u001b[0m\u001b[0;34m)\u001b[0m\u001b[0;34m)\u001b[0m\u001b[0;34m:\u001b[0m\u001b[0;34m\u001b[0m\u001b[0;34m\u001b[0m\u001b[0m\n\u001b[1;32m    299\u001b[0m                 \u001b[0;32mif\u001b[0m \u001b[0mwidget\u001b[0m \u001b[0;32mis\u001b[0m \u001b[0;32mNone\u001b[0m\u001b[0;34m:\u001b[0m\u001b[0;34m\u001b[0m\u001b[0;34m\u001b[0m\u001b[0m\n\u001b[0;32m--> 300\u001b[0;31m                     \u001b[0;32mraise\u001b[0m \u001b[0mValueError\u001b[0m\u001b[0;34m(\u001b[0m\u001b[0;34m\"{!r} cannot be transformed to a widget\"\u001b[0m\u001b[0;34m.\u001b[0m\u001b[0mformat\u001b[0m\u001b[0;34m(\u001b[0m\u001b[0mabbrev\u001b[0m\u001b[0;34m)\u001b[0m\u001b[0;34m)\u001b[0m\u001b[0;34m\u001b[0m\u001b[0;34m\u001b[0m\u001b[0m\n\u001b[0m\u001b[1;32m    301\u001b[0m                 \u001b[0;32melse\u001b[0m\u001b[0;34m:\u001b[0m\u001b[0;34m\u001b[0m\u001b[0;34m\u001b[0m\u001b[0m\n\u001b[1;32m    302\u001b[0m                     \u001b[0;32mraise\u001b[0m \u001b[0mTypeError\u001b[0m\u001b[0;34m(\u001b[0m\u001b[0;34m\"{!r} is not a ValueWidget\"\u001b[0m\u001b[0;34m.\u001b[0m\u001b[0mformat\u001b[0m\u001b[0;34m(\u001b[0m\u001b[0mwidget\u001b[0m\u001b[0;34m)\u001b[0m\u001b[0;34m)\u001b[0m\u001b[0;34m\u001b[0m\u001b[0;34m\u001b[0m\u001b[0m\n",
      "\u001b[0;31mValueError\u001b[0m: Accordion(children=(interactive(children=(IntSlider(value=10, description='a', max=30, min=-10), IntSlider(value=20, description='b', max=60, min=-20), Output()), _dom_classes=('widget-interact',)),)) cannot be transformed to a widget"
     ]
    }
   ],
   "source": [
    "\n",
    "def f1(a, b):\n",
    "    display(a + b)\n",
    "    return a+b\n",
    "\n",
    "w = widgets.Accordion(children=[interactive(f1, a=10, b=20)])\n",
    "\n",
    "def f2(c):\n",
    "    print(c*5)\n",
    "    \n",
    "interact(f2, c=w)\n"
   ]
  },
  {
   "cell_type": "code",
   "execution_count": null,
   "metadata": {},
   "outputs": [],
   "source": []
  },
  {
   "cell_type": "code",
   "execution_count": null,
   "metadata": {},
   "outputs": [],
   "source": []
  }
 ],
 "metadata": {
  "kernelspec": {
   "display_name": "Python 3",
   "language": "python",
   "name": "python3"
  },
  "language_info": {
   "codemirror_mode": {
    "name": "ipython",
    "version": 3
   },
   "file_extension": ".py",
   "mimetype": "text/x-python",
   "name": "python",
   "nbconvert_exporter": "python",
   "pygments_lexer": "ipython3",
   "version": "3.8.1"
  }
 },
 "nbformat": 4,
 "nbformat_minor": 4
}
